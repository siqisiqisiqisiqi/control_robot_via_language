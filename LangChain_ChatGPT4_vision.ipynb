{
 "cells": [
  {
   "cell_type": "markdown",
   "metadata": {},
   "source": [
    "## ChatGPT 4.0 API"
   ]
  },
  {
   "cell_type": "code",
   "execution_count": 1,
   "metadata": {},
   "outputs": [],
   "source": [
    "from openai import OpenAI\n",
    "\n",
    "client = OpenAI(\n",
    "    api_key = \"\"\n",
    ")\n",
    "\n",
    "response = client.chat.completions.create(\n",
    "  model=\"gpt-4-turbo\",\n",
    "  messages=[\n",
    "    {\n",
    "      \"role\": \"user\",\n",
    "      \"content\": [\n",
    "        {\"type\": \"text\", \"text\": \"What’s in this image?\"},\n",
    "        {\n",
    "          \"type\": \"image_url\",\n",
    "          \"image_url\": {\n",
    "            \"url\": \"https://upload.wikimedia.org/wikipedia/commons/thumb/d/dd/Gfp-wisconsin-madison-the-nature-boardwalk.jpg/2560px-Gfp-wisconsin-madison-the-nature-boardwalk.jpg\",\n",
    "          },\n",
    "        },\n",
    "      ],\n",
    "    }\n",
    "  ],\n",
    "  max_tokens=300,\n",
    ")\n"
   ]
  },
  {
   "cell_type": "code",
   "execution_count": 4,
   "metadata": {},
   "outputs": [],
   "source": [
    "import base64\n",
    "def encode_image(image_path):\n",
    "  with open(image_path, \"rb\") as image_file:\n",
    "    return base64.b64encode(image_file.read()).decode('utf-8')"
   ]
  },
  {
   "cell_type": "code",
   "execution_count": 5,
   "metadata": {},
   "outputs": [],
   "source": [
    "image_path = \"image1.jpg\"\n",
    "base64_image = encode_image(image_path)"
   ]
  },
  {
   "cell_type": "code",
   "execution_count": 8,
   "metadata": {},
   "outputs": [],
   "source": [
    "response = client.chat.completions.create(\n",
    "  model=\"gpt-4-turbo\",\n",
    "  messages=[\n",
    "    {\n",
    "      \"role\": \"user\",\n",
    "      \"content\": [\n",
    "        {\"type\": \"text\", \"text\": \"What’s in this image, answer in two sentences?\"},\n",
    "        {\n",
    "          \"type\": \"image_url\",\n",
    "          \"image_url\": {\n",
    "            \"url\":  f\"data:image/jpeg;base64,{base64_image}\",\n",
    "          },\n",
    "        },\n",
    "      ],\n",
    "    }\n",
    "  ],\n",
    "  max_tokens=300,\n",
    ")"
   ]
  },
  {
   "cell_type": "code",
   "execution_count": 9,
   "metadata": {},
   "outputs": [
    {
     "name": "stdout",
     "output_type": "stream",
     "text": [
      "The image features three colorful bowls in orange, green, and blue, placed on a pink rectangular mat with a pale background. Additionally, there are four cubes in orange, blue, green, and red colors, grouped near each other on the same mat.\n"
     ]
    }
   ],
   "source": [
    "reply = response.choices[0].message.content\n",
    "print(reply)"
   ]
  },
  {
   "cell_type": "markdown",
   "metadata": {},
   "source": [
    "## LangChain ChatGPT4_vision"
   ]
  },
  {
   "cell_type": "code",
   "execution_count": 5,
   "metadata": {},
   "outputs": [],
   "source": [
    "from langchain.chains import TransformChain\n",
    "from langchain_core.messages import HumanMessage\n",
    "from langchain_openai import ChatOpenAI\n",
    "from langchain import globals\n",
    "from langchain_core.runnables import chain"
   ]
  },
  {
   "cell_type": "code",
   "execution_count": 13,
   "metadata": {},
   "outputs": [],
   "source": [
    "OPENAI_API_KEY = \"\"\n",
    "import os\n",
    "os.environ[\"OPENAI_API_KEY\"] = OPENAI_API_KEY"
   ]
  },
  {
   "cell_type": "code",
   "execution_count": 40,
   "metadata": {},
   "outputs": [],
   "source": [
    "from langchain_core.pydantic_v1 import BaseModel, Field\n",
    "\n",
    "class ImageInformation(BaseModel):\n",
    "    \"\"\"Information about an image.\"\"\"\n",
    "    image_description: list[str] = Field(description=\"list each available objects\")\n",
    "    planner: list[str] = Field(description=\"list each of the movement step to place objects into bowls of corresponding colors \")"
   ]
  },
  {
   "cell_type": "code",
   "execution_count": 41,
   "metadata": {},
   "outputs": [],
   "source": [
    "from langchain_core.output_parsers import JsonOutputParser\n",
    "\n",
    "parser = JsonOutputParser(pydantic_object=ImageInformation)"
   ]
  },
  {
   "cell_type": "code",
   "execution_count": 35,
   "metadata": {},
   "outputs": [],
   "source": [
    "from langchain.schema import HumanMessage, SystemMessage, AIMessage"
   ]
  },
  {
   "cell_type": "code",
   "execution_count": 42,
   "metadata": {},
   "outputs": [],
   "source": [
    "# Set verbose\n",
    "globals.set_debug(True)\n",
    "\n",
    "@chain\n",
    "def image_model(inputs: dict) -> str | list[str] | dict:\n",
    " \"\"\"Invoke model with image and prompt.\"\"\"\n",
    " model = ChatOpenAI(temperature=0.5, model=\"gpt-4-vision-preview\", max_tokens=1024)\n",
    "#  model([\n",
    "#     SystemMessage(content=\"You are a robot controller to control the robot to pick and place object. \\\n",
    "#                   available scene objects: ['green bowl', 'red bowl'], [blue bowl], [green block], [blue block], [red block]\\\n",
    "#                   available movement: ['move'], ['pick'], [place]\"),\n",
    "# ])\n",
    " msg = model.invoke(\n",
    "             [  SystemMessage(content=\"You are a robot controller to control the robot to pick and place object. \\\n",
    "                  available scene objects: ['green bowl', 'red bowl'], [blue bowl], [green block], [blue block], [red block]\\\n",
    "                  available movement: ['move'], ['pick'], [place]\"),\n",
    "              \n",
    "               HumanMessage(\n",
    "             content=[\n",
    "             {\"type\": \"text\", \"text\": inputs[\"prompt\"]},\n",
    "             {\"type\": \"text\", \"text\": parser.get_format_instructions()},\n",
    "             {\"type\": \"image_url\", \"image_url\": {\"url\": f\"data:image/jpeg;base64,{inputs['image']}\"}},\n",
    "             ])]\n",
    "             )\n",
    " return msg.content"
   ]
  },
  {
   "cell_type": "code",
   "execution_count": 43,
   "metadata": {},
   "outputs": [],
   "source": [
    "def get_image_informations(image_path: str) -> dict:\n",
    "   vision_prompt = \"\"\"\n",
    "   Given the image, provide the following information:\n",
    "   - A count of how many people are in the image\n",
    "   - A list of the main objects present in the image\n",
    "   - A description of the image\n",
    "   \"\"\"\n",
    "   vision_chain = load_image_chain | image_model | parser\n",
    "   return vision_chain.invoke({'image_path': f'{image_path}', \n",
    "                               'prompt': vision_prompt})"
   ]
  },
  {
   "cell_type": "code",
   "execution_count": null,
   "metadata": {},
   "outputs": [],
   "source": [
    "result = get_image_informations(\"image1.jpg\")"
   ]
  },
  {
   "cell_type": "code",
   "execution_count": 48,
   "metadata": {},
   "outputs": [
    {
     "name": "stdout",
     "output_type": "stream",
     "text": [
      "['move to red block', 'pick red block', 'move to red bowl', 'place red block', 'move to blue block', 'pick blue block', 'move to blue bowl', 'place blue block', 'move to green block', 'pick green block', 'move to green bowl', 'place green block']\n",
      "['green bowl', 'red bowl', 'blue bowl', 'green block', 'blue block', 'red block']\n"
     ]
    }
   ],
   "source": [
    "print(result['planner'])\n",
    "print(result['image_description'])"
   ]
  },
  {
   "cell_type": "code",
   "execution_count": null,
   "metadata": {},
   "outputs": [],
   "source": [
    "from transformers import pipeline\n",
    "\n",
    "checkpoint = \"google/owlv2-base-patch16-ensemble\"\n",
    "\n",
    "from transformers import AutoProcessor, AutoModelForZeroShotObjectDetection\n",
    "\n",
    "model = AutoModelForZeroShotObjectDetection.from_pretrained(checkpoint)\n",
    "processor = AutoProcessor.from_pretrained(checkpoint)"
   ]
  },
  {
   "cell_type": "code",
   "execution_count": null,
   "metadata": {},
   "outputs": [],
   "source": [
    "import numpy as np\n",
    "from PIL import Image\n",
    "\n",
    "FILE_PATH = \"image1.jpg\"\n",
    "im = Image.open(FILE_PATH)"
   ]
  },
  {
   "cell_type": "markdown",
   "metadata": {},
   "source": [
    "## Langchain simple test"
   ]
  },
  {
   "cell_type": "code",
   "execution_count": 20,
   "metadata": {},
   "outputs": [],
   "source": [
    "import base64\n",
    "def encode_image(image_path):\n",
    "  with open(image_path, \"rb\") as image_file:\n",
    "    return base64.b64encode(image_file.read()).decode('utf-8')"
   ]
  },
  {
   "cell_type": "code",
   "execution_count": 21,
   "metadata": {},
   "outputs": [],
   "source": [
    "image_path = \"image1.jpg\"\n",
    "base64_image = encode_image(image_path)"
   ]
  },
  {
   "cell_type": "code",
   "execution_count": 22,
   "metadata": {},
   "outputs": [
    {
     "name": "stderr",
     "output_type": "stream",
     "text": [
      "c:\\Users\\szheng2\\OneDrive - Clemson University\\Desktop\\Spring2024\\hw\\hw3\\langchain_project\\.venv\\Lib\\site-packages\\langchain_core\\_api\\deprecation.py:117: LangChainDeprecationWarning: The class `langchain_community.chat_models.openai.ChatOpenAI` was deprecated in langchain-community 0.0.10 and will be removed in 0.2.0. An updated version of the class exists in the langchain-openai package and should be used instead. To use it run `pip install -U langchain-openai` and import as `from langchain_openai import ChatOpenAI`.\n",
      "  warn_deprecated(\n"
     ]
    },
    {
     "name": "stdout",
     "output_type": "stream",
     "text": [
      "\u001b[32;1m\u001b[1;3m[llm/start]\u001b[0m \u001b[1m[1:llm:ChatOpenAI] Entering LLM run with input:\n",
      "\u001b[0m{\n",
      "  \"prompts\": [\n",
      "    \"Human: [{'type': 'text', 'text': 'What is this image showing'}, {'type': 'image_url', 'image_url': {'url': 'data:image/jpeg;base64,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', 'detail': 'auto'}}]\"\n",
      "  ]\n",
      "}\n",
      "\u001b[36;1m\u001b[1;3m[llm/end]\u001b[0m \u001b[1m[1:llm:ChatOpenAI] [6.47s] Exiting LLM run with output:\n",
      "\u001b[0m{\n",
      "  \"generations\": [\n",
      "    [\n",
      "      {\n",
      "        \"text\": \"This image shows a simple color-matching activity that might be used for educational or developmental purposes. There are three colored bowls – orange, green, and blue – arranged on a table with a pink border. Directly in front of each bowl, there is a cube with a matching color. The orange cube is placed in front of the orange bowl, the green cube in front of the green bowl, and the blue cube in front of the blue bowl. This setup is likely designed to teach or test color recognition and matching skills, possibly for young children or individuals learning these basic concepts.\",\n",
      "        \"generation_info\": {\n",
      "          \"finish_reason\": \"stop\",\n",
      "          \"logprobs\": null\n",
      "        },\n",
      "        \"type\": \"ChatGeneration\",\n",
      "        \"message\": {\n",
      "          \"lc\": 1,\n",
      "          \"type\": \"constructor\",\n",
      "          \"id\": [\n",
      "            \"langchain\",\n",
      "            \"schema\",\n",
      "            \"messages\",\n",
      "            \"AIMessage\"\n",
      "          ],\n",
      "          \"kwargs\": {\n",
      "            \"content\": \"This image shows a simple color-matching activity that might be used for educational or developmental purposes. There are three colored bowls – orange, green, and blue – arranged on a table with a pink border. Directly in front of each bowl, there is a cube with a matching color. The orange cube is placed in front of the orange bowl, the green cube in front of the green bowl, and the blue cube in front of the blue bowl. This setup is likely designed to teach or test color recognition and matching skills, possibly for young children or individuals learning these basic concepts.\",\n",
      "            \"additional_kwargs\": {},\n",
      "            \"tool_calls\": [],\n",
      "            \"invalid_tool_calls\": []\n",
      "          }\n",
      "        }\n",
      "      }\n",
      "    ]\n",
      "  ],\n",
      "  \"llm_output\": {\n",
      "    \"token_usage\": {\n",
      "      \"completion_tokens\": 117,\n",
      "      \"prompt_tokens\": 267,\n",
      "      \"total_tokens\": 384\n",
      "    },\n",
      "    \"model_name\": \"gpt-4-vision-preview\",\n",
      "    \"system_fingerprint\": null\n",
      "  },\n",
      "  \"run\": null\n",
      "}\n"
     ]
    },
    {
     "data": {
      "text/plain": [
       "AIMessage(content='This image shows a simple color-matching activity that might be used for educational or developmental purposes. There are three colored bowls – orange, green, and blue – arranged on a table with a pink border. Directly in front of each bowl, there is a cube with a matching color. The orange cube is placed in front of the orange bowl, the green cube in front of the green bowl, and the blue cube in front of the blue bowl. This setup is likely designed to teach or test color recognition and matching skills, possibly for young children or individuals learning these basic concepts.', response_metadata={'token_usage': {'completion_tokens': 117, 'prompt_tokens': 267, 'total_tokens': 384}, 'model_name': 'gpt-4-vision-preview', 'system_fingerprint': None, 'finish_reason': 'stop', 'logprobs': None}, id='run-3e4d8ca0-0657-4cad-b2c8-5d29d92b465c-0')"
      ]
     },
     "execution_count": 22,
     "metadata": {},
     "output_type": "execute_result"
    }
   ],
   "source": [
    "from langchain.chat_models import ChatOpenAI\n",
    "from langchain.schema.messages import HumanMessage, SystemMessage\n",
    "\n",
    "chat = ChatOpenAI(model=\"gpt-4-vision-preview\", max_tokens=256)\n",
    "chat.invoke(\n",
    "    [\n",
    "        HumanMessage(\n",
    "            content=[\n",
    "                {\"type\": \"text\", \"text\": \"What is this image showing\"},\n",
    "                {\n",
    "                    \"type\": \"image_url\",\n",
    "                    \"image_url\": {\n",
    "                        \"url\": f\"data:image/jpeg;base64,{base64_image}\",\n",
    "                        \"detail\": \"auto\",\n",
    "                    },\n",
    "                },\n",
    "            ]\n",
    "        )\n",
    "    ]\n",
    ")"
   ]
  }
 ],
 "metadata": {
  "kernelspec": {
   "display_name": ".venv",
   "language": "python",
   "name": "python3"
  },
  "language_info": {
   "codemirror_mode": {
    "name": "ipython",
    "version": 3
   },
   "file_extension": ".py",
   "mimetype": "text/x-python",
   "name": "python",
   "nbconvert_exporter": "python",
   "pygments_lexer": "ipython3",
   "version": "3.8.10"
  }
 },
 "nbformat": 4,
 "nbformat_minor": 2
}
